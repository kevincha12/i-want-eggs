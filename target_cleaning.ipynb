{
 "cells": [
  {
   "cell_type": "markdown",
   "metadata": {},
   "source": [
    "## Basic Target Location Dataset Cleaning\n",
    "Please have your personal Kaggle API key setup and available in the correct location before running this notebook.\n",
    "\n",
    "The Kaggle dataset processed can be found here:\n",
    "https://www.kaggle.com/datasets/locationscloudsdata/target-store-location-data-usa"
   ]
  },
  {
   "cell_type": "code",
   "execution_count": 1,
   "metadata": {},
   "outputs": [],
   "source": [
    "import kaggle"
   ]
  },
  {
   "cell_type": "code",
   "execution_count": 2,
   "metadata": {},
   "outputs": [
    {
     "name": "stdout",
     "output_type": "stream",
     "text": [
      "Dataset URL: https://www.kaggle.com/datasets/locationscloudsdata/target-store-location-data-usa\n"
     ]
    }
   ],
   "source": [
    "kaggle.api.dataset_download_files('locationscloudsdata/target-store-location-data-usa', path='./data', unzip=True)"
   ]
  }
 ],
 "metadata": {
  "kernelspec": {
   "display_name": "venv",
   "language": "python",
   "name": "python3"
  },
  "language_info": {
   "codemirror_mode": {
    "name": "ipython",
    "version": 3
   },
   "file_extension": ".py",
   "mimetype": "text/x-python",
   "name": "python",
   "nbconvert_exporter": "python",
   "pygments_lexer": "ipython3",
   "version": "3.12.1"
  }
 },
 "nbformat": 4,
 "nbformat_minor": 2
}
